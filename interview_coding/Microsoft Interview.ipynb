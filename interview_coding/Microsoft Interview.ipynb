{
 "cells": [
  {
   "cell_type": "markdown",
   "metadata": {},
   "source": [
    "### 微软面试题\n",
    "https://www.nowcoder.com/discuss/954988"
   ]
  },
  {
   "cell_type": "markdown",
   "metadata": {},
   "source": [
    "##### 一面\n",
    "给一个employ和manage的关系 \\\n",
    "|employ|manage|\n",
    "| :----: | :----: |\n",
    "| 2  | 5 |\n",
    "| 5  | 6 |\n",
    "| 1  | 6 |\n",
    "\n",
    "请把他按管理层级打印成如下json串的形式 \\\n",
    "[ \\\n",
    "{\\\n",
    "id:6\\\n",
    "sub:[\\\n",
    "{\\\n",
    "id:5\\\n",
    "sub:[\\\n",
    "{id:2}\\\n",
    "]\\\n",
    "}\\\n",
    "{id:1}\\\n",
    "]\\\n",
    "}\\\n",
    "]\\"
   ]
  },
  {
   "cell_type": "markdown",
   "metadata": {},
   "source": [
    "##### Note: 是一道看似简单，实际简单，但是写起来并不容易的题。"
   ]
  },
  {
   "cell_type": "code",
   "execution_count": 3,
   "metadata": {},
   "outputs": [
    {
     "data": {
      "text/html": [
       "<pre style=\"white-space:pre;overflow-x:auto;line-height:normal;font-family:Menlo,'DejaVu Sans Mono',consolas,'Courier New',monospace\"><span style=\"font-weight: bold\">[</span>\n",
       "  <span style=\"font-weight: bold\">{</span>\n",
       "    <span style=\"color: #000080; text-decoration-color: #000080; font-weight: bold\">\"id\"</span>: <span style=\"color: #008080; text-decoration-color: #008080; font-weight: bold\">6</span>,\n",
       "    <span style=\"color: #000080; text-decoration-color: #000080; font-weight: bold\">\"sub\"</span>: <span style=\"font-weight: bold\">[</span>\n",
       "      <span style=\"font-weight: bold\">{</span>\n",
       "        <span style=\"color: #000080; text-decoration-color: #000080; font-weight: bold\">\"id\"</span>: <span style=\"color: #008080; text-decoration-color: #008080; font-weight: bold\">5</span>,\n",
       "        <span style=\"color: #000080; text-decoration-color: #000080; font-weight: bold\">\"sub\"</span>: <span style=\"font-weight: bold\">[</span>\n",
       "          <span style=\"font-weight: bold\">{</span>\n",
       "            <span style=\"color: #000080; text-decoration-color: #000080; font-weight: bold\">\"id\"</span>: <span style=\"color: #008080; text-decoration-color: #008080; font-weight: bold\">2</span>\n",
       "          <span style=\"font-weight: bold\">}</span>\n",
       "        <span style=\"font-weight: bold\">]</span>\n",
       "      <span style=\"font-weight: bold\">}</span>,\n",
       "      <span style=\"font-weight: bold\">{</span>\n",
       "        <span style=\"color: #000080; text-decoration-color: #000080; font-weight: bold\">\"id\"</span>: <span style=\"color: #008080; text-decoration-color: #008080; font-weight: bold\">1</span>\n",
       "      <span style=\"font-weight: bold\">}</span>\n",
       "    <span style=\"font-weight: bold\">]</span>\n",
       "  <span style=\"font-weight: bold\">}</span>\n",
       "<span style=\"font-weight: bold\">]</span>\n",
       "</pre>\n"
      ],
      "text/plain": [
       "\u001b[1m[\u001b[0m\n",
       "  \u001b[1m{\u001b[0m\n",
       "    \u001b[1;34m\"id\"\u001b[0m: \u001b[1;36m6\u001b[0m,\n",
       "    \u001b[1;34m\"sub\"\u001b[0m: \u001b[1m[\u001b[0m\n",
       "      \u001b[1m{\u001b[0m\n",
       "        \u001b[1;34m\"id\"\u001b[0m: \u001b[1;36m5\u001b[0m,\n",
       "        \u001b[1;34m\"sub\"\u001b[0m: \u001b[1m[\u001b[0m\n",
       "          \u001b[1m{\u001b[0m\n",
       "            \u001b[1;34m\"id\"\u001b[0m: \u001b[1;36m2\u001b[0m\n",
       "          \u001b[1m}\u001b[0m\n",
       "        \u001b[1m]\u001b[0m\n",
       "      \u001b[1m}\u001b[0m,\n",
       "      \u001b[1m{\u001b[0m\n",
       "        \u001b[1;34m\"id\"\u001b[0m: \u001b[1;36m1\u001b[0m\n",
       "      \u001b[1m}\u001b[0m\n",
       "    \u001b[1m]\u001b[0m\n",
       "  \u001b[1m}\u001b[0m\n",
       "\u001b[1m]\u001b[0m\n"
      ]
     },
     "metadata": {},
     "output_type": "display_data"
    }
   ],
   "source": [
    "from typing import Tuple, List, Dict, Any, Set\n",
    "import rich, json\n",
    "\n",
    "ids: Dict[int, List[int]] = {}\n",
    "\n",
    "def gen_dict(root: int) -> Dict[Any, Any]:\n",
    "    sub: List[Dict[Any, Any]] = []\n",
    "    for i in ids[root]:\n",
    "        sub.append(gen_dict(i))\n",
    "    ret: Dict[Any, Any] = {\n",
    "        \"id\": root\n",
    "    }\n",
    "    if sub:\n",
    "        ret[\"sub\"] = sub\n",
    "    return ret\n",
    "\n",
    "def main(rel: List[Tuple[int, int]]):\n",
    "    root: Set[int] = set()\n",
    "    for employ, manager in rel:\n",
    "        root.add(manager)\n",
    "        root.discard(employ)\n",
    "        if employ not in ids:\n",
    "            ids[employ] = []\n",
    "        if manager not in ids:\n",
    "            ids[manager] = []\n",
    "        if employ not in ids[manager]:\n",
    "            ids[manager].append(employ)\n",
    "    ret: List[Dict[Any, Any]] = []\n",
    "    for id in root:\n",
    "        ret.append(gen_dict(id))\n",
    "        \n",
    "    rich.print_json(json.dumps(ret))\n",
    "\n",
    "test = [(2, 5), (5, 6), (1, 6)]\n",
    "\n",
    "main(test)"
   ]
  }
 ],
 "metadata": {
  "kernelspec": {
   "display_name": "Python 3.6.7 64-bit (system)",
   "language": "python",
   "name": "python3"
  },
  "language_info": {
   "codemirror_mode": {
    "name": "ipython",
    "version": 3
   },
   "file_extension": ".py",
   "mimetype": "text/x-python",
   "name": "python",
   "nbconvert_exporter": "python",
   "pygments_lexer": "ipython3",
   "version": "3.6.7"
  },
  "orig_nbformat": 4,
  "vscode": {
   "interpreter": {
    "hash": "f4e9cda46bb2d9d7fe6ecdff0f8336a934348bf06cb492f2f42f60739b3403b4"
   }
  }
 },
 "nbformat": 4,
 "nbformat_minor": 2
}
